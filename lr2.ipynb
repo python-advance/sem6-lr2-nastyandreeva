{
 "cells": [
  {
   "cell_type": "code",
   "execution_count": 11,
   "metadata": {},
   "outputs": [
    {
     "name": "stdout",
     "output_type": "stream",
     "text": [
      "Результат перемножения матриц:\n",
      "[[14 10]\n",
      " [11  5]]\n"
     ]
    }
   ],
   "source": [
    "import numpy\n",
    "import threading\n",
    "\n",
    "\n",
    "def Mult_mat(a,b,i):\n",
    "    for j in range (len(A)):\n",
    "        C[i][j] = sum(map(lambda x,y: x*y, a[i], b[j]))\n",
    "\n",
    "\n",
    "if __name__ == \"__main__\":\n",
    "\n",
    "    A = numpy.array([[4,2],[1,3]])\n",
    "    B = numpy.array([[2,3],[2,1]]) \n",
    "    C = numpy.array([[0,0],[0,0]])\n",
    "\n",
    "for i in range (len(A)):\n",
    "     threading.Thread(target=Mult_mat, args=(A,B,i)).start()\n",
    "\n",
    "print(\"Результат перемножения матриц:\")\n",
    "print(C)"
   ]
  },
  {
   "cell_type": "code",
   "execution_count": null,
   "metadata": {},
   "outputs": [],
   "source": []
  }
 ],
 "metadata": {
  "kernelspec": {
   "display_name": "Python 3",
   "language": "python",
   "name": "python3"
  },
  "language_info": {
   "codemirror_mode": {
    "name": "ipython",
    "version": 3
   },
   "file_extension": ".py",
   "mimetype": "text/x-python",
   "name": "python",
   "nbconvert_exporter": "python",
   "pygments_lexer": "ipython3",
   "version": "3.7.0"
  }
 },
 "nbformat": 4,
 "nbformat_minor": 2
}
